{
 "cells": [
  {
   "cell_type": "code",
   "execution_count": 1,
   "metadata": {},
   "outputs": [],
   "source": [
    "from vaderSentiment.vaderSentiment import SentimentIntensityAnalyzer"
   ]
  },
  {
   "cell_type": "code",
   "execution_count": 2,
   "metadata": {},
   "outputs": [],
   "source": [
    "import pandas as pd"
   ]
  },
  {
   "cell_type": "code",
   "execution_count": 5,
   "metadata": {},
   "outputs": [
    {
     "data": {
      "text/html": [
       "<div>\n",
       "<style scoped>\n",
       "    .dataframe tbody tr th:only-of-type {\n",
       "        vertical-align: middle;\n",
       "    }\n",
       "\n",
       "    .dataframe tbody tr th {\n",
       "        vertical-align: top;\n",
       "    }\n",
       "\n",
       "    .dataframe thead th {\n",
       "        text-align: right;\n",
       "    }\n",
       "</style>\n",
       "<table border=\"1\" class=\"dataframe\">\n",
       "  <thead>\n",
       "    <tr style=\"text-align: right;\">\n",
       "      <th></th>\n",
       "      <th>Date</th>\n",
       "      <th>article_title</th>\n",
       "      <th>article</th>\n",
       "      <th>source_name</th>\n",
       "      <th>source_link</th>\n",
       "    </tr>\n",
       "  </thead>\n",
       "  <tbody>\n",
       "    <tr>\n",
       "      <th>0</th>\n",
       "      <td>2024-03-21 20:55:39+00:00</td>\n",
       "      <td>Why China's options in response to a TikTok ba...</td>\n",
       "      <td>Chinese officials decried the lack of “fairnes...</td>\n",
       "      <td>Yahoo Finance</td>\n",
       "      <td>https://finance.yahoo.com/quote/AAPL/news/why-...</td>\n",
       "    </tr>\n",
       "    <tr>\n",
       "      <th>1</th>\n",
       "      <td>2024-03-21 20:43:56+00:00</td>\n",
       "      <td>US STOCKS-Wall Street hits record closing high...</td>\n",
       "      <td>*Micron Technology surges after upbeat Q3 rev ...</td>\n",
       "      <td>Yahoo Finance</td>\n",
       "      <td>https://finance.yahoo.com/quote/AAPL/news/us-s...</td>\n",
       "    </tr>\n",
       "    <tr>\n",
       "      <th>2</th>\n",
       "      <td>2024-03-21 20:02:12+00:00</td>\n",
       "      <td>Stocks Rally to New Highs Despite Apple's Losses</td>\n",
       "      <td>The S&amp;P 500 was up 0.3%. The Nasdaq Composite ...</td>\n",
       "      <td>Yahoo Finance</td>\n",
       "      <td>https://finance.yahoo.com/quote/AAPL/m/fa04871...</td>\n",
       "    </tr>\n",
       "    <tr>\n",
       "      <th>3</th>\n",
       "      <td>2024-03-21 19:35:33+00:00</td>\n",
       "      <td>Today's Dow Jones Stocks To Watch: Apple Stock...</td>\n",
       "      <td>The best Dow Jones stocks to buy and watch in ...</td>\n",
       "      <td>Yahoo Finance</td>\n",
       "      <td>https://finance.yahoo.com/quote/AAPL/m/65b5389...</td>\n",
       "    </tr>\n",
       "    <tr>\n",
       "      <th>4</th>\n",
       "      <td>2024-03-21 18:55:06+00:00</td>\n",
       "      <td>US STOCKS-Wall Street hits record highs on rat...</td>\n",
       "      <td>*Micron Technology surges after upbeat Q3 rev ...</td>\n",
       "      <td>Yahoo Finance</td>\n",
       "      <td>https://finance.yahoo.com/quote/AAPL/news/us-s...</td>\n",
       "    </tr>\n",
       "  </tbody>\n",
       "</table>\n",
       "</div>"
      ],
      "text/plain": [
       "                        Date  \\\n",
       "0  2024-03-21 20:55:39+00:00   \n",
       "1  2024-03-21 20:43:56+00:00   \n",
       "2  2024-03-21 20:02:12+00:00   \n",
       "3  2024-03-21 19:35:33+00:00   \n",
       "4  2024-03-21 18:55:06+00:00   \n",
       "\n",
       "                                       article_title  \\\n",
       "0  Why China's options in response to a TikTok ba...   \n",
       "1  US STOCKS-Wall Street hits record closing high...   \n",
       "2   Stocks Rally to New Highs Despite Apple's Losses   \n",
       "3  Today's Dow Jones Stocks To Watch: Apple Stock...   \n",
       "4  US STOCKS-Wall Street hits record highs on rat...   \n",
       "\n",
       "                                             article    source_name  \\\n",
       "0  Chinese officials decried the lack of “fairnes...  Yahoo Finance   \n",
       "1  *Micron Technology surges after upbeat Q3 rev ...  Yahoo Finance   \n",
       "2  The S&P 500 was up 0.3%. The Nasdaq Composite ...  Yahoo Finance   \n",
       "3  The best Dow Jones stocks to buy and watch in ...  Yahoo Finance   \n",
       "4  *Micron Technology surges after upbeat Q3 rev ...  Yahoo Finance   \n",
       "\n",
       "                                         source_link  \n",
       "0  https://finance.yahoo.com/quote/AAPL/news/why-...  \n",
       "1  https://finance.yahoo.com/quote/AAPL/news/us-s...  \n",
       "2  https://finance.yahoo.com/quote/AAPL/m/fa04871...  \n",
       "3  https://finance.yahoo.com/quote/AAPL/m/65b5389...  \n",
       "4  https://finance.yahoo.com/quote/AAPL/news/us-s...  "
      ]
     },
     "execution_count": 5,
     "metadata": {},
     "output_type": "execute_result"
    }
   ],
   "source": [
    "df=pd.read_csv('News.csv')\n",
    "df.head(5)"
   ]
  },
  {
   "cell_type": "code",
   "execution_count": 6,
   "metadata": {},
   "outputs": [],
   "source": [
    "analyzer=SentimentIntensityAnalyzer()"
   ]
  },
  {
   "cell_type": "code",
   "execution_count": null,
   "metadata": {},
   "outputs": [],
   "source": [
    "def analyze_sentiment(article):\n",
    "    scores=analyzer.polarity_scores(article)\n",
    "    return scores['pos']"
   ]
  }
 ],
 "metadata": {
  "kernelspec": {
   "display_name": "finalProjectEnv",
   "language": "python",
   "name": "python3"
  },
  "language_info": {
   "codemirror_mode": {
    "name": "ipython",
    "version": 3
   },
   "file_extension": ".py",
   "mimetype": "text/x-python",
   "name": "python",
   "nbconvert_exporter": "python",
   "pygments_lexer": "ipython3",
   "version": "3.7.0"
  }
 },
 "nbformat": 4,
 "nbformat_minor": 2
}
