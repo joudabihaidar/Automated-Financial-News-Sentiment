{
 "cells": [
  {
   "cell_type": "code",
   "execution_count": 212,
   "metadata": {},
   "outputs": [],
   "source": [
    "# For downloading historical market data:\n",
    "import yfinance as yf\n",
    "\n",
    "# For data manipulation:\n",
    "import pandas as pd\n",
    "\n",
    "# For working with dates and times:\n",
    "from datetime import datetime, timedelta\n",
    "\n",
    "# For timezone support:\n",
    "import pytz"
   ]
  },
  {
   "cell_type": "markdown",
   "metadata": {},
   "source": [
    "# <font color='pink'>Utility Functions</font>\n"
   ]
  },
  {
   "cell_type": "markdown",
   "metadata": {},
   "source": [
    "Removing seconds from datetime strings in a Dataframe."
   ]
  },
  {
   "cell_type": "code",
   "execution_count": 213,
   "metadata": {},
   "outputs": [],
   "source": [
    "def removeSeconds(df):\n",
    "    modified_dates=[]\n",
    "    for date in df['Date']:\n",
    "\n",
    "        format = '%Y-%m-%d %H:%M:%S%z'\n",
    "\n",
    "        # Converting stirng to datetime object using the above format:\n",
    "        date = datetime.strptime(date, format)\n",
    "\n",
    "        # Removing seconds from the datetime object:\n",
    "        modified_date = date.replace(second=0)\n",
    "        \n",
    "        modified_dates.append(modified_date)\n",
    "    df['Date']=modified_dates\n",
    "    return df"
   ]
  },
  {
   "cell_type": "markdown",
   "metadata": {},
   "source": [
    "Converting datetime values in a DataFrame to a specific timezone."
   ]
  },
  {
   "cell_type": "code",
   "execution_count": 214,
   "metadata": {},
   "outputs": [],
   "source": [
    "def convertTimezone(timezone,df,name):\n",
    "\n",
    "    # The target timezone:\n",
    "    target_tz = pytz.timezone(timezone)\n",
    "\n",
    "    # If we're using DataFrame index:\n",
    "    if df.index is not None:\n",
    "        # Converting the datetime to the target timezone:\n",
    "        df.index = pd.to_datetime(df.index, utc=True).tz_convert(timezone)\n",
    "\n",
    "    # If we're not using DataFrame index:\n",
    "    else:\n",
    "        # Converting the datetime to the target timezone:\n",
    "        df[name] = pd.to_datetime(df[name],utc=True).dt.tz_convert(target_tz)\n",
    "    return df\n",
    "\n",
    "# NOTES:\n",
    "    # 'utc=True' for ensuring that all datetime values are in UTC before any operations\n",
    "    # ... to avoid issues related to timezone conversions"
   ]
  },
  {
   "cell_type": "markdown",
   "metadata": {},
   "source": [
    "Retrieving stock prices for a specified date range using Yahoo Finance API 'yfinance'."
   ]
  },
  {
   "cell_type": "code",
   "execution_count": 215,
   "metadata": {},
   "outputs": [],
   "source": [
    "def getStockPrices(start_date,end_date,ticker):\n",
    "\n",
    "    # Converting start and end date to datetime objects:\n",
    "    start_date = datetime.strptime(start_date, \"%Y-%m-%d\")\n",
    "    end_date = datetime.strptime(end_date, \"%Y-%m-%d\")\n",
    "\n",
    "    # Interval for stock price data retrieval (1 minute):\n",
    "    interval = \"1m\"                     \n",
    "\n",
    "    # Assigning start_date to current_date:\n",
    "    current_date = start_date\n",
    "    \n",
    "    # List that will contain all retrieved stock price data:\n",
    "    data_list = []  \n",
    "\n",
    "    todays_date = datetime.now()\n",
    "\n",
    "    # ensuring that our date range does not exceed the last 30 days,\n",
    "    # ... since 'yfinance' allows us to retrieve historical data for a maximum date range of the last 30 days.\n",
    "    if (todays_date-start_date).days>30:\n",
    "        print(\"ensure that your date range does not exceed the last 30 days\")\n",
    "        return\n",
    "    else:\n",
    "        while current_date < end_date:\n",
    "\n",
    "            # Since we're downloading stock price data in chunks of up to 7 days to avoid API limitations,\n",
    "            # ... we must calculate the remaining days at each iteration:\n",
    "            remaining_days = (end_date - current_date).days\n",
    "            \n",
    "            # If remaining_days < 7, we download the data until end_date\n",
    "            if remaining_days < 7:\n",
    "                \n",
    "                data = yf.download(tickers=ticker, start=current_date, end=end_date, interval=interval)\n",
    "\n",
    "                # We must convert the data to a specified timezone:\n",
    "                data = convertTimezone('UTC', data, 'Datetime')\n",
    "                \n",
    "                data_list.append(data)\n",
    "\n",
    "                # Setting current_date to end_date to exit the loop\n",
    "                current_date = end_date\n",
    "\n",
    "            # If remaining_days>=7, we download data for next 7 days:\n",
    "            else:\n",
    "                next_date = current_date + timedelta(days=7)\n",
    "\n",
    "                data = yf.download(tickers=ticker, start=current_date, end=next_date, interval=interval)\n",
    "\n",
    "                # We must convert the data to a specified timezone:\n",
    "                data = convertTimezone('UTC', data, 'Datetime')\n",
    "                \n",
    "                data_list.append(data)\n",
    "\n",
    "                # Updating current_date for the next iteration:\n",
    "                current_date = next_date\n",
    "\n",
    "        final_data = pd.concat(data_list)\n",
    "        final_data.reset_index(inplace=True)\n",
    "        return final_data\n",
    "\n",
    "# Notes:\n",
    "    # We must convert the data to a specified timezone, \n",
    "    # ... to ensure that all datetime values in the dataset are in the same timezone,\n",
    "    # ... for consistency and comparison purposes.\n"
   ]
  },
  {
   "cell_type": "markdown",
   "metadata": {},
   "source": [
    "Adding stock prices to a DataFrame based on matching dates"
   ]
  },
  {
   "cell_type": "code",
   "execution_count": 216,
   "metadata": {},
   "outputs": [],
   "source": [
    "def addStockPrices(stockPrices,df):\n",
    "\n",
    "    # Ensuring that both datasets have their datetime columns properly formatted as strings,\n",
    "    # ... for accurate matching.\n",
    "    stockPrices['Datetime'] = pd.to_datetime(stockPrices['Datetime'])\n",
    "    stockPrices['Datetime'] = stockPrices['Datetime'].dt.strftime('%Y-%m-%d %H:%M:%S')\n",
    "\n",
    "    df['Date'] = pd.to_datetime(df['Date'])\n",
    "    df['Date'] = df['Date'].dt.strftime('%Y-%m-%d %H:%M:%S')\n",
    "\n",
    "    # This list will store retrieved stock prices:\n",
    "    stock_prices = []\n",
    "\n",
    "    for index, row in df.iterrows():\n",
    "\n",
    "        publication_date = row['Date']\n",
    "       \n",
    "        # If the publication date exists in teh stockPrices DataFrame,\n",
    "        # ... we retrieve the corresponding stock price from stockPrices DataFrame\n",
    "        if publication_date in stockPrices['Datetime'].values:\n",
    "            stock_price = stockPrices.loc[stockPrices['Datetime'] == publication_date, 'Adj Close'].values[0]\n",
    "            stock_prices.append(stock_price)\n",
    "        else:\n",
    "            stock_prices.append(None)  \n",
    "    df['stock_price'] = stock_prices\n",
    "    df= df.dropna(subset=['stock_price'])\n",
    "    return df"
   ]
  },
  {
   "cell_type": "markdown",
   "metadata": {},
   "source": [
    "Adding stock prices after a specified time period to a DataFrame based on publication dates."
   ]
  },
  {
   "cell_type": "code",
   "execution_count": 217,
   "metadata": {},
   "outputs": [],
   "source": [
    "def addStockPricesAfter(stockPrices,df,time):\n",
    "\n",
    "    # Ensuring that both datasets have their datetime columns properly formatted as strings,\n",
    "    # ... for accurate matching.\n",
    "    stockPrices['Datetime'] = pd.to_datetime(stockPrices['Datetime'])\n",
    "    stockPrices['Datetime'] = stockPrices['Datetime'].dt.strftime('%Y-%m-%d %H:%M:%S')\n",
    "\n",
    "    df['Date'] = pd.to_datetime(df['Date'])\n",
    "\n",
    "    # Adding the specified time period to the publication dates\n",
    "    df['Date']+=timedelta(minutes=time)\n",
    "\n",
    "    df['Date'] = df['Date'].dt.strftime('%Y-%m-%d %H:%M:%S')\n",
    "\n",
    "    # This list will store retrieved stock prices:\n",
    "    stock_prices = []\n",
    "\n",
    " \n",
    "    for index, row in df.iterrows():\n",
    "        publication_date = row['Date']\n",
    "              \n",
    "        # If the publication date exists in teh stockPrices DataFrame,\n",
    "        # ... we retrieve the corresponding stock price from stockPrices DataFrame\n",
    "        if publication_date in stockPrices['Datetime'].values:\n",
    "           \n",
    "            stock_price = stockPrices.loc[stockPrices['Datetime'] == publication_date, 'Adj Close'].values[0]\n",
    "            stock_prices.append(stock_price)\n",
    "        else:\n",
    "            stock_prices.append(None) \n",
    "\n",
    "\n",
    "    df[f'stock_price_after_{time}_mins'] = stock_prices\n",
    "    df= df.dropna(subset=[f'stock_price_after_{time}_mins'])\n",
    "    return df"
   ]
  },
  {
   "cell_type": "markdown",
   "metadata": {},
   "source": [
    "Labeling the Data based on stock price changes after a certain period of time."
   ]
  },
  {
   "cell_type": "code",
   "execution_count": 218,
   "metadata": {},
   "outputs": [],
   "source": [
    "def label(df,time):\n",
    "    # List to store labels indicating stock price changes\n",
    "    labels=[]\n",
    "\n",
    "    # List to store percentage changes in stock prices\n",
    "    change_percentages=[]\n",
    "\n",
    "    # column name of stock prices based on the time:\n",
    "    name=f'stock_price_after_{time}_mins'\n",
    "\n",
    "    for index, row in df.iterrows():\n",
    "\n",
    "        # Calculating the percentage change in stock price after a certain time\n",
    "        change_percentages.append((row[name] - row['stock_price'] )/ row['stock_price'] * 100)\n",
    "        \n",
    "        # Labeling the data:\n",
    "        if row[name]>row['stock_price']:\n",
    "            labels.append(1)\n",
    "        elif row[name]<row['stock_price']:\n",
    "            labels.append(-1)\n",
    "        else:\n",
    "            labels.append(0)\n",
    "    df['change_percentage']=change_percentages\n",
    "    df['label']=labels\n",
    "    return df"
   ]
  },
  {
   "cell_type": "markdown",
   "metadata": {},
   "source": [
    "Creating a CSV file"
   ]
  },
  {
   "cell_type": "code",
   "execution_count": 219,
   "metadata": {},
   "outputs": [],
   "source": [
    "def turnToCSV(df,name):\n",
    "    df.to_csv(fr'C:\\Users\\Legion\\Desktop\\FinalYearProject\\data\\{name}.csv',index=False)"
   ]
  },
  {
   "cell_type": "markdown",
   "metadata": {},
   "source": [
    "# <font color='pink'>Main Program</font>"
   ]
  },
  {
   "cell_type": "markdown",
   "metadata": {},
   "source": [
    "Reading our News dataset tha contains all of the News articles and their publication dates"
   ]
  },
  {
   "cell_type": "code",
   "execution_count": 220,
   "metadata": {},
   "outputs": [
    {
     "data": {
      "text/html": [
       "<div>\n",
       "<style scoped>\n",
       "    .dataframe tbody tr th:only-of-type {\n",
       "        vertical-align: middle;\n",
       "    }\n",
       "\n",
       "    .dataframe tbody tr th {\n",
       "        vertical-align: top;\n",
       "    }\n",
       "\n",
       "    .dataframe thead th {\n",
       "        text-align: right;\n",
       "    }\n",
       "</style>\n",
       "<table border=\"1\" class=\"dataframe\">\n",
       "  <thead>\n",
       "    <tr style=\"text-align: right;\">\n",
       "      <th></th>\n",
       "      <th>Date</th>\n",
       "      <th>article_title</th>\n",
       "      <th>article</th>\n",
       "      <th>source_name</th>\n",
       "      <th>source_link</th>\n",
       "    </tr>\n",
       "  </thead>\n",
       "  <tbody>\n",
       "    <tr>\n",
       "      <th>0</th>\n",
       "      <td>2024-03-31 12:00:00+00:00</td>\n",
       "      <td>Spring Cleaning: 3 Stocks to Say Goodbye to Ri...</td>\n",
       "      <td>Spring is here, and flowers are blooming. You ...</td>\n",
       "      <td>Yahoo Finance</td>\n",
       "      <td>https://finance.yahoo.com/quote/AAPL/news/spri...</td>\n",
       "    </tr>\n",
       "  </tbody>\n",
       "</table>\n",
       "</div>"
      ],
      "text/plain": [
       "                        Date  \\\n",
       "0  2024-03-31 12:00:00+00:00   \n",
       "\n",
       "                                       article_title  \\\n",
       "0  Spring Cleaning: 3 Stocks to Say Goodbye to Ri...   \n",
       "\n",
       "                                             article    source_name  \\\n",
       "0  Spring is here, and flowers are blooming. You ...  Yahoo Finance   \n",
       "\n",
       "                                         source_link  \n",
       "0  https://finance.yahoo.com/quote/AAPL/news/spri...  "
      ]
     },
     "execution_count": 220,
     "metadata": {},
     "output_type": "execute_result"
    }
   ],
   "source": [
    "News=pd.read_csv(r'C:\\Users\\Legion\\Desktop\\FinalYearProject\\data\\News.csv')\n",
    "News.head(1)\n"
   ]
  },
  {
   "cell_type": "markdown",
   "metadata": {},
   "source": [
    "Creating the stockPrices dataset"
   ]
  },
  {
   "cell_type": "code",
   "execution_count": 221,
   "metadata": {},
   "outputs": [
    {
     "name": "stdout",
     "output_type": "stream",
     "text": [
      "[*********************100%***********************]  1 of 1 completed\n",
      "[*********************100%***********************]  1 of 1 completed\n",
      "[*********************100%***********************]  1 of 1 completed\n",
      "[*********************100%***********************]  1 of 1 completed\n"
     ]
    },
    {
     "data": {
      "text/html": [
       "<div>\n",
       "<style scoped>\n",
       "    .dataframe tbody tr th:only-of-type {\n",
       "        vertical-align: middle;\n",
       "    }\n",
       "\n",
       "    .dataframe tbody tr th {\n",
       "        vertical-align: top;\n",
       "    }\n",
       "\n",
       "    .dataframe thead th {\n",
       "        text-align: right;\n",
       "    }\n",
       "</style>\n",
       "<table border=\"1\" class=\"dataframe\">\n",
       "  <thead>\n",
       "    <tr style=\"text-align: right;\">\n",
       "      <th></th>\n",
       "      <th>Datetime</th>\n",
       "      <th>Open</th>\n",
       "      <th>High</th>\n",
       "      <th>Low</th>\n",
       "      <th>Close</th>\n",
       "      <th>Adj Close</th>\n",
       "      <th>Volume</th>\n",
       "    </tr>\n",
       "  </thead>\n",
       "  <tbody>\n",
       "    <tr>\n",
       "      <th>0</th>\n",
       "      <td>2024-03-05 14:30:00+00:00</td>\n",
       "      <td>171.0</td>\n",
       "      <td>171.0</td>\n",
       "      <td>170.610001</td>\n",
       "      <td>170.919998</td>\n",
       "      <td>170.919998</td>\n",
       "      <td>5958861</td>\n",
       "    </tr>\n",
       "  </tbody>\n",
       "</table>\n",
       "</div>"
      ],
      "text/plain": [
       "                   Datetime   Open   High         Low       Close   Adj Close  \\\n",
       "0 2024-03-05 14:30:00+00:00  171.0  171.0  170.610001  170.919998  170.919998   \n",
       "\n",
       "    Volume  \n",
       "0  5958861  "
      ]
     },
     "execution_count": 221,
     "metadata": {},
     "output_type": "execute_result"
    }
   ],
   "source": [
    "# Getting the start date from the News dataset and the end date:\n",
    "start_date = News['Date'].min().split()[0] \n",
    "end_date =  News['Date'].max().split()[0]  \n",
    "\n",
    "# Creating a CSV file with all the stock prices corresponding to these dates:\n",
    "stockPrices=getStockPrices(start_date,end_date,'AAPL')\n",
    "turnToCSV(stockPrices,'stockPrices')\n",
    "stockPrices.head(1)"
   ]
  },
  {
   "cell_type": "markdown",
   "metadata": {},
   "source": [
    "Getting the stock prices before and after a certain amount of time corresponding to the publication date."
   ]
  },
  {
   "cell_type": "code",
   "execution_count": 222,
   "metadata": {},
   "outputs": [
    {
     "data": {
      "text/html": [
       "<div>\n",
       "<style scoped>\n",
       "    .dataframe tbody tr th:only-of-type {\n",
       "        vertical-align: middle;\n",
       "    }\n",
       "\n",
       "    .dataframe tbody tr th {\n",
       "        vertical-align: top;\n",
       "    }\n",
       "\n",
       "    .dataframe thead th {\n",
       "        text-align: right;\n",
       "    }\n",
       "</style>\n",
       "<table border=\"1\" class=\"dataframe\">\n",
       "  <thead>\n",
       "    <tr style=\"text-align: right;\">\n",
       "      <th></th>\n",
       "      <th>Date</th>\n",
       "      <th>article_title</th>\n",
       "      <th>article</th>\n",
       "      <th>source_name</th>\n",
       "      <th>source_link</th>\n",
       "      <th>stock_price</th>\n",
       "      <th>stock_price_after_30_mins</th>\n",
       "    </tr>\n",
       "  </thead>\n",
       "  <tbody>\n",
       "    <tr>\n",
       "      <th>32</th>\n",
       "      <td>2024-03-28 19:45:00</td>\n",
       "      <td>Apple's new iPad Pro likely to launch in May, ...</td>\n",
       "      <td>(Reuters) - Apple's overseas suppliers have in...</td>\n",
       "      <td>Yahoo Finance</td>\n",
       "      <td>https://finance.yahoo.com/quote/AAPL/news/appl...</td>\n",
       "      <td>171.949997</td>\n",
       "      <td>171.964996</td>\n",
       "    </tr>\n",
       "  </tbody>\n",
       "</table>\n",
       "</div>"
      ],
      "text/plain": [
       "                   Date                                      article_title  \\\n",
       "32  2024-03-28 19:45:00  Apple's new iPad Pro likely to launch in May, ...   \n",
       "\n",
       "                                              article    source_name  \\\n",
       "32  (Reuters) - Apple's overseas suppliers have in...  Yahoo Finance   \n",
       "\n",
       "                                          source_link  stock_price  \\\n",
       "32  https://finance.yahoo.com/quote/AAPL/news/appl...   171.949997   \n",
       "\n",
       "    stock_price_after_30_mins  \n",
       "32                 171.964996  "
      ]
     },
     "execution_count": 222,
     "metadata": {},
     "output_type": "execute_result"
    }
   ],
   "source": [
    "# First, we need to remove the seconds from the dates since 'yfinance operates on minute-based intervals:\n",
    "News=removeSeconds(News)\n",
    "\n",
    "# Adding the stock prices corresponding to the publication date:\n",
    "News=addStockPrices(stockPrices,News)\n",
    "\n",
    "# Adding stock prices after 30 minutes of the publication date:\n",
    "News=addStockPricesAfter(stockPrices,News,30)\n",
    "\n",
    "News.head(1)"
   ]
  },
  {
   "cell_type": "markdown",
   "metadata": {},
   "source": [
    "Labeling the data."
   ]
  },
  {
   "cell_type": "code",
   "execution_count": 223,
   "metadata": {},
   "outputs": [
    {
     "data": {
      "text/html": [
       "<div>\n",
       "<style scoped>\n",
       "    .dataframe tbody tr th:only-of-type {\n",
       "        vertical-align: middle;\n",
       "    }\n",
       "\n",
       "    .dataframe tbody tr th {\n",
       "        vertical-align: top;\n",
       "    }\n",
       "\n",
       "    .dataframe thead th {\n",
       "        text-align: right;\n",
       "    }\n",
       "</style>\n",
       "<table border=\"1\" class=\"dataframe\">\n",
       "  <thead>\n",
       "    <tr style=\"text-align: right;\">\n",
       "      <th></th>\n",
       "      <th>Date</th>\n",
       "      <th>article_title</th>\n",
       "      <th>article</th>\n",
       "      <th>source_name</th>\n",
       "      <th>source_link</th>\n",
       "      <th>stock_price</th>\n",
       "      <th>stock_price_after_30_mins</th>\n",
       "      <th>change_percentage</th>\n",
       "      <th>label</th>\n",
       "    </tr>\n",
       "  </thead>\n",
       "  <tbody>\n",
       "    <tr>\n",
       "      <th>32</th>\n",
       "      <td>2024-03-28 19:45:00</td>\n",
       "      <td>Apple's new iPad Pro likely to launch in May, ...</td>\n",
       "      <td>(Reuters) - Apple's overseas suppliers have in...</td>\n",
       "      <td>Yahoo Finance</td>\n",
       "      <td>https://finance.yahoo.com/quote/AAPL/news/appl...</td>\n",
       "      <td>171.949997</td>\n",
       "      <td>171.964996</td>\n",
       "      <td>0.008723</td>\n",
       "      <td>1</td>\n",
       "    </tr>\n",
       "  </tbody>\n",
       "</table>\n",
       "</div>"
      ],
      "text/plain": [
       "                   Date                                      article_title  \\\n",
       "32  2024-03-28 19:45:00  Apple's new iPad Pro likely to launch in May, ...   \n",
       "\n",
       "                                              article    source_name  \\\n",
       "32  (Reuters) - Apple's overseas suppliers have in...  Yahoo Finance   \n",
       "\n",
       "                                          source_link  stock_price  \\\n",
       "32  https://finance.yahoo.com/quote/AAPL/news/appl...   171.949997   \n",
       "\n",
       "    stock_price_after_30_mins  change_percentage  label  \n",
       "32                 171.964996           0.008723      1  "
      ]
     },
     "execution_count": 223,
     "metadata": {},
     "output_type": "execute_result"
    }
   ],
   "source": [
    "News=label(News,30)\n",
    "turnToCSV(News,'NewsWithStockPrice')\n",
    "\n",
    "News.head(1)"
   ]
  },
  {
   "cell_type": "code",
   "execution_count": 224,
   "metadata": {},
   "outputs": [],
   "source": [
    "# down_threshold = -1 \n",
    "# up_threshold = 1    \n",
    "\n",
    "# labels = []\n",
    "# for index, row in News.iterrows():\n",
    "#     change_percentage = ((row['stock_price_after_30_mins'] - row['stock_price']) / row['stock_price']) * 100\n",
    "#     print(change_percentage)\n",
    "#     if change_percentage < down_threshold:\n",
    "#         labels.append(-1)\n",
    "#     elif change_percentage > up_threshold:\n",
    "#         labels.append(1)\n",
    "#     else:\n",
    "#         labels.append(0)\n",
    "\n",
    "\n",
    "# News['label'] = labels\n"
   ]
  },
  {
   "cell_type": "code",
   "execution_count": null,
   "metadata": {},
   "outputs": [],
   "source": []
  }
 ],
 "metadata": {
  "kernelspec": {
   "display_name": "finalProjectEnv",
   "language": "python",
   "name": "python3"
  },
  "language_info": {
   "codemirror_mode": {
    "name": "ipython",
    "version": 3
   },
   "file_extension": ".py",
   "mimetype": "text/x-python",
   "name": "python",
   "nbconvert_exporter": "python",
   "pygments_lexer": "ipython3",
   "version": "3.7.0"
  }
 },
 "nbformat": 4,
 "nbformat_minor": 2
}
