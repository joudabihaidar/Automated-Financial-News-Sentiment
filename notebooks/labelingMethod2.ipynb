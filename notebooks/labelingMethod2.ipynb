{
 "cells": [
  {
   "cell_type": "code",
   "execution_count": 77,
   "metadata": {},
   "outputs": [],
   "source": [
    "import yfinance as yf\n",
    "import pandas as pd\n",
    "from datetime import datetime, timedelta\n",
    "import pytz"
   ]
  },
  {
   "cell_type": "code",
   "execution_count": 78,
   "metadata": {},
   "outputs": [],
   "source": [
    "def removeSeconds(df):\n",
    "    modified_dates=[]\n",
    "    for date in df['Date']:\n",
    "        format = '%Y-%m-%d %H:%M:%S%z'\n",
    "        date = datetime.strptime(date, format)\n",
    "        modified_date = date.replace(second=0)\n",
    "        modified_dates.append(modified_date)\n",
    "    df['Date']=modified_dates\n",
    "    return df"
   ]
  },
  {
   "cell_type": "code",
   "execution_count": 79,
   "metadata": {},
   "outputs": [],
   "source": [
    "def convertTimezone(timezone, df,name):\n",
    "    target_tz = pytz.timezone(timezone)\n",
    "\n",
    "    if df.index is not None:\n",
    "        #  a timezone-aware index\n",
    "        df.index = pd.to_datetime(df.index, utc=True).tz_convert(timezone)\n",
    "\n",
    "    else:\n",
    "        df[name] = pd.to_datetime(df[name],utc=True)\n",
    "        df[name] = df[name].dt.tz_convert(target_tz)\n",
    "    return df"
   ]
  },
  {
   "cell_type": "code",
   "execution_count": 80,
   "metadata": {},
   "outputs": [],
   "source": [
    "def getStockPrices(start_date,end_date):\n",
    "\n",
    "    start_date = datetime.strptime(start_date, \"%Y-%m-%d\")\n",
    "    end_date = datetime.strptime(end_date, \"%Y-%m-%d\")\n",
    "    interval = \"1m\"                     \n",
    "\n",
    "    current_date = start_date\n",
    "    \n",
    "    data_list = []  \n",
    "\n",
    "    while current_date < end_date:\n",
    "        remaining_days = (end_date - current_date).days\n",
    "        \n",
    "        if remaining_days < 7:\n",
    "            \n",
    "            data = yf.download(\"AAPL\", start=current_date, end=end_date, interval=interval)\n",
    "            data = convertTimezone('UTC', data, 'Datetime')\n",
    "            \n",
    "            data_list.append(data)\n",
    "            current_date = end_date\n",
    "        else:\n",
    "           \n",
    "            next_date = current_date + timedelta(days=7)\n",
    "            data = yf.download(\"AAPL\", start=current_date, end=next_date, interval=interval)\n",
    "            data = convertTimezone('UTC', data, 'Datetime')\n",
    "            \n",
    "            data_list.append(data)\n",
    "            current_date = next_date\n",
    "\n",
    "   \n",
    "    final_data = pd.concat(data_list)\n",
    "    final_data.reset_index(inplace=True)\n",
    "    return final_data\n"
   ]
  },
  {
   "cell_type": "code",
   "execution_count": 81,
   "metadata": {},
   "outputs": [],
   "source": [
    "def addStockPrices(stockPrices,df):\n",
    "\n",
    "  \n",
    "\n",
    "    stockPrices['Datetime'] = pd.to_datetime(stockPrices['Datetime'])\n",
    "    stockPrices['Datetime'] = stockPrices['Datetime'].dt.strftime('%Y-%m-%d %H:%M:%S')\n",
    "\n",
    "    df['Date'] = pd.to_datetime(df['Date'])\n",
    "    df['Date'] = df['Date'].dt.strftime('%Y-%m-%d %H:%M:%S')\n",
    "\n",
    "   \n",
    "    stock_prices = []\n",
    "\n",
    "    for index, row in df.iterrows():\n",
    "        publication_date = row['Date']\n",
    "       \n",
    "        if publication_date in stockPrices['Datetime'].values:\n",
    "           \n",
    "            stock_price = stockPrices.loc[stockPrices['Datetime'] == publication_date, 'Adj Close'].values[0]\n",
    "            stock_prices.append(stock_price)\n",
    "        else:\n",
    "            stock_prices.append(None)  \n",
    "\n",
    "    \n",
    "    df['stock_price'] = stock_prices\n",
    "    return df"
   ]
  },
  {
   "cell_type": "code",
   "execution_count": 82,
   "metadata": {},
   "outputs": [],
   "source": [
    "def addStockPricesAfter(stockPrices,df,time):\n",
    "\n",
    "\n",
    "    stockPrices['Datetime'] = pd.to_datetime(stockPrices['Datetime'])\n",
    "    stockPrices['Datetime'] = stockPrices['Datetime'].dt.strftime('%Y-%m-%d %H:%M:%S')\n",
    "\n",
    "    df['Date'] = pd.to_datetime(df['Date'])\n",
    "    df['Date']+=timedelta(minutes=time)\n",
    "    df['Date'] = df['Date'].dt.strftime('%Y-%m-%d %H:%M:%S')\n",
    "\n",
    "\n",
    "    stock_prices = []\n",
    "\n",
    " \n",
    "    for index, row in df.iterrows():\n",
    "        publication_date = row['Date']\n",
    "       \n",
    "        if publication_date in stockPrices['Datetime'].values:\n",
    "           \n",
    "            stock_price = stockPrices.loc[stockPrices['Datetime'] == publication_date, 'Adj Close'].values[0]\n",
    "            stock_prices.append(stock_price)\n",
    "        else:\n",
    "            stock_prices.append(None) \n",
    "\n",
    "\n",
    "    df[f'stock_price_after_{time}_mins'] = stock_prices\n",
    "    return df"
   ]
  },
  {
   "cell_type": "code",
   "execution_count": 83,
   "metadata": {},
   "outputs": [],
   "source": [
    "def label(df):\n",
    "    labels=[]\n",
    "    change_percentages=[]\n",
    "    for index, row in df.iterrows():\n",
    "        change_percentages.append((row['stock_price_after_30_mins'] - row['stock_price'] )/ row['stock_price'] * 100)\n",
    "        if row['stock_price_after_30_mins']>row['stock_price']:\n",
    "            labels.append(1)\n",
    "        elif row['stock_price_after_30_mins']<row['stock_price']:\n",
    "            labels.append(-1)\n",
    "        else:\n",
    "            labels.append(0)\n",
    "    df['change_percentage']=change_percentages\n",
    "    df['label']=labels\n",
    "    return df"
   ]
  },
  {
   "cell_type": "code",
   "execution_count": 84,
   "metadata": {},
   "outputs": [],
   "source": [
    "def turnToCSV(df,name):\n",
    "    df.to_csv(fr'C:\\Users\\Legion\\Desktop\\FinalYearProject\\data\\{name}.csv',index=False)"
   ]
  },
  {
   "cell_type": "code",
   "execution_count": 85,
   "metadata": {},
   "outputs": [],
   "source": [
    "News=pd.read_csv(r'C:\\Users\\Legion\\Desktop\\FinalYearProject\\data\\News.csv')\n"
   ]
  },
  {
   "cell_type": "code",
   "execution_count": 86,
   "metadata": {},
   "outputs": [
    {
     "name": "stdout",
     "output_type": "stream",
     "text": [
      "[*********************100%***********************]  1 of 1 completed\n",
      "[*********************100%***********************]  1 of 1 completed\n",
      "[*********************100%***********************]  1 of 1 completed\n",
      "[*********************100%***********************]  1 of 1 completed\n"
     ]
    }
   ],
   "source": [
    "start_date = News['Date'].min().split()[0] \n",
    "end_date =  News['Date'].max().split()[0]  \n",
    "stockPrices=getStockPrices(start_date,end_date)\n",
    "turnToCSV(stockPrices,'stockPrices')"
   ]
  },
  {
   "cell_type": "code",
   "execution_count": 87,
   "metadata": {},
   "outputs": [],
   "source": [
    "News=removeSeconds(News)"
   ]
  },
  {
   "cell_type": "code",
   "execution_count": 88,
   "metadata": {},
   "outputs": [],
   "source": [
    "News=addStockPrices(stockPrices,News)\n",
    "News= News.dropna(subset=['stock_price'])"
   ]
  },
  {
   "cell_type": "code",
   "execution_count": 89,
   "metadata": {},
   "outputs": [],
   "source": [
    "News=addStockPricesAfter(stockPrices,News,30)\n",
    "News= News.dropna(subset=['stock_price_after_30_mins'])"
   ]
  },
  {
   "cell_type": "code",
   "execution_count": 90,
   "metadata": {},
   "outputs": [],
   "source": [
    "News=label(News)\n",
    "turnToCSV(News,'NewsWithStockPrice')"
   ]
  },
  {
   "cell_type": "code",
   "execution_count": 91,
   "metadata": {},
   "outputs": [],
   "source": [
    "# down_threshold = -1 \n",
    "# up_threshold = 1    \n",
    "\n",
    "# labels = []\n",
    "# for index, row in News.iterrows():\n",
    "#     change_percentage = ((row['stock_price_after_30_mins'] - row['stock_price']) / row['stock_price']) * 100\n",
    "#     print(change_percentage)\n",
    "#     if change_percentage < down_threshold:\n",
    "#         labels.append(-1)\n",
    "#     elif change_percentage > up_threshold:\n",
    "#         labels.append(1)\n",
    "#     else:\n",
    "#         labels.append(0)\n",
    "\n",
    "\n",
    "# News['label'] = labels\n"
   ]
  }
 ],
 "metadata": {
  "kernelspec": {
   "display_name": "finalProjectEnv",
   "language": "python",
   "name": "python3"
  },
  "language_info": {
   "codemirror_mode": {
    "name": "ipython",
    "version": 3
   },
   "file_extension": ".py",
   "mimetype": "text/x-python",
   "name": "python",
   "nbconvert_exporter": "python",
   "pygments_lexer": "ipython3",
   "version": "3.7.0"
  }
 },
 "nbformat": 4,
 "nbformat_minor": 2
}
